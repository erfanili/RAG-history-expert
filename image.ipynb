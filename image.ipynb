{
 "cells": [
  {
   "cell_type": "code",
   "execution_count": 7,
   "id": "f9b0c0d3",
   "metadata": {},
   "outputs": [
    {
     "name": "stdout",
     "output_type": "stream",
     "text": [
      "\n",
      "Title: File:British Mark I male tank Somme 25 September 1916.jpg\n",
      "URL: https://upload.wikimedia.org/wikipedia/commons/f/f6/British_Mark_I_male_tank_Somme_25_September_1916.jpg\n",
      "Caption: English:An early model British Mark I \"male\" tank, named C-15, near Thiepval, 25 September 1916. The tank is probably in reserve for theBattle of Thiepval Ridgewhich began on 26 September. The tank is fitted with the wire \"grenade shield\" and steering tail, both features discarded in the next models.\n"
     ]
    },
    {
     "data": {
      "text/html": [
       "<img src=\"https://upload.wikimedia.org/wikipedia/commons/f/f6/British_Mark_I_male_tank_Somme_25_September_1916.jpg\"/>"
      ],
      "text/plain": [
       "<IPython.core.display.Image object>"
      ]
     },
     "metadata": {},
     "output_type": "display_data"
    },
    {
     "name": "stdout",
     "output_type": "stream",
     "text": [
      "\n",
      "Title: File:Cheshire Regiment trench Somme 1916.jpg\n",
      "URL: https://upload.wikimedia.org/wikipedia/commons/f/fa/Cheshire_Regiment_trench_Somme_1916.jpg\n",
      "Caption: English:Britishtrench near theAlbert–Bapaumeroad atOvillers-la-Boisselle, July1916during theBattle of the Somme.\n"
     ]
    },
    {
     "data": {
      "text/html": [
       "<img src=\"https://upload.wikimedia.org/wikipedia/commons/f/fa/Cheshire_Regiment_trench_Somme_1916.jpg\"/>"
      ],
      "text/plain": [
       "<IPython.core.display.Image object>"
      ]
     },
     "metadata": {},
     "output_type": "display_data"
    },
    {
     "name": "stdout",
     "output_type": "stream",
     "text": [
      "\n",
      "Title: File:Map of the Battle of the Somme, 1916.svg\n",
      "URL: https://upload.wikimedia.org/wikipedia/commons/a/ab/Map_of_the_Battle_of_the_Somme%2C_1916.svg\n",
      "Caption: English:Map of theBattle of the Somme, 1916.\n"
     ]
    },
    {
     "data": {
      "text/html": [
       "<img src=\"https://upload.wikimedia.org/wikipedia/commons/a/ab/Map_of_the_Battle_of_the_Somme%2C_1916.svg\"/>"
      ],
      "text/plain": [
       "<IPython.core.display.Image object>"
      ]
     },
     "metadata": {},
     "output_type": "display_data"
    }
   ],
   "source": [
    "import requests\n",
    "from IPython.display import Image, display\n",
    "from bs4 import BeautifulSoup\n",
    "import urllib.parse\n",
    "\n",
    "def search_commons_images_with_captions(keyword, limit=5):\n",
    "    # Step 1: Search for images\n",
    "    search_url = \"https://commons.wikimedia.org/w/api.php\"\n",
    "    params = {\n",
    "        \"action\": \"query\",\n",
    "        \"generator\": \"search\",\n",
    "        \"gsrsearch\": keyword,\n",
    "        \"gsrnamespace\": 6,\n",
    "        \"gsrlimit\": limit,\n",
    "        \"prop\": \"imageinfo\",\n",
    "        \"iiprop\": \"url\",\n",
    "        \"format\": \"json\"\n",
    "    }\n",
    "\n",
    "    response = requests.get(search_url, params=params)\n",
    "    response.raise_for_status()\n",
    "    data = response.json()\n",
    "    pages = data.get(\"query\", {}).get(\"pages\", {})\n",
    "\n",
    "    if not pages:\n",
    "        print(\"No results found.\")\n",
    "        return\n",
    "\n",
    "    # Step 2: Iterate over results\n",
    "    for page in pages.values():\n",
    "        title = page.get(\"title\")  # e.g. \"File:Example.jpg\"\n",
    "        imageinfo = page.get(\"imageinfo\", [])\n",
    "        if not imageinfo:\n",
    "            continue\n",
    "        image_url = imageinfo[0][\"url\"]\n",
    "\n",
    "        # Step 3: Construct Wikipedia file page URL (mobile version)\n",
    "        file_title_encoded = urllib.parse.quote(title)\n",
    "        wiki_url = f\"https://en.m.wikipedia.org/wiki/{file_title_encoded}\"\n",
    "\n",
    "        # Step 4: Scrape the description/caption\n",
    "        try:\n",
    "            wiki_response = requests.get(wiki_url)\n",
    "            soup = BeautifulSoup(wiki_response.content, \"html.parser\")\n",
    "            caption_div = soup.find(\"div\", class_=\"description en\")\n",
    "            caption = caption_div.get_text(strip=True) if caption_div else \"No caption found.\"\n",
    "        except Exception as e:\n",
    "            caption = f\"Error fetching caption: {e}\"\n",
    "\n",
    "        # Step 5: Display image + caption\n",
    "        print(f\"\\nTitle: {title}\")\n",
    "        print(f\"URL: {image_url}\")\n",
    "        print(f\"Caption: {caption}\")\n",
    "        display(Image(url=image_url))\n",
    "\n",
    "# Example usage\n",
    "search_commons_images_with_captions(\"Battle of Somme\", limit=3)\n"
   ]
  }
 ],
 "metadata": {
  "kernelspec": {
   "display_name": "bionemo-evo2",
   "language": "python",
   "name": "python3"
  },
  "language_info": {
   "codemirror_mode": {
    "name": "ipython",
    "version": 3
   },
   "file_extension": ".py",
   "mimetype": "text/x-python",
   "name": "python",
   "nbconvert_exporter": "python",
   "pygments_lexer": "ipython3",
   "version": "3.11.11"
  }
 },
 "nbformat": 4,
 "nbformat_minor": 5
}
