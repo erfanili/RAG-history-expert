{
 "cells": [
  {
   "cell_type": "code",
   "execution_count": 12,
   "id": "824a65d7",
   "metadata": {},
   "outputs": [
    {
     "data": {
      "text/plain": [
       "('https://upload.wikimedia.org/wikipedia/commons/thumb/5/5d/Battle_of_Verdun_map.png/960px-Battle_of_Verdun_map.png',\n",
       " 'Battle of Verdun')"
      ]
     },
     "execution_count": 12,
     "metadata": {},
     "output_type": "execute_result"
    }
   ],
   "source": [
    "import requests\n",
    "\n",
    "def get_wikipedia_infobox_image(query: str):\n",
    "    # Step 1: Search for the page\n",
    "    search_url = \"https://en.wikipedia.org/w/api.php\"\n",
    "    search_params = {\n",
    "        \"action\": \"query\",\n",
    "        \"list\": \"search\",\n",
    "        \"srsearch\": query,\n",
    "        \"format\": \"json\"\n",
    "    }\n",
    "    search_response = requests.get(search_url, params=search_params)\n",
    "    search_response.raise_for_status()\n",
    "    search_data = search_response.json()\n",
    "\n",
    "    search_results = search_data.get(\"query\", {}).get(\"search\", [])\n",
    "    if not search_results:\n",
    "        return None\n",
    "\n",
    "    title = search_results[0][\"title\"]\n",
    "\n",
    "    # Step 2: Get page data with page image\n",
    "    page_url = \"https://en.wikipedia.org/w/api.php\"\n",
    "    page_params = {\n",
    "        \"action\": \"query\",\n",
    "        \"titles\": title,\n",
    "        \"prop\": \"pageimages\",\n",
    "        \"format\": \"json\",\n",
    "        \"pithumbsize\": 600  # image size in pixels\n",
    "    }\n",
    "    page_response = requests.get(page_url, params=page_params)\n",
    "    page_response.raise_for_status()\n",
    "    page_data = page_response.json()\n",
    "\n",
    "    pages = page_data.get(\"query\", {}).get(\"pages\", {})\n",
    "    for page in pages.values():\n",
    "        image_url = page.get(\"thumbnail\", {}).get(\"source\")\n",
    "        if image_url:\n",
    "            return image_url, title\n",
    "\n",
    "    return None\n",
    "\n",
    "\n",
    "\n",
    "get_wikipedia_infobox_image(\"battle of verdun\")"
   ]
  }
 ],
 "metadata": {
  "kernelspec": {
   "display_name": "base",
   "language": "python",
   "name": "python3"
  },
  "language_info": {
   "codemirror_mode": {
    "name": "ipython",
    "version": 3
   },
   "file_extension": ".py",
   "mimetype": "text/x-python",
   "name": "python",
   "nbconvert_exporter": "python",
   "pygments_lexer": "ipython3",
   "version": "3.12.2"
  }
 },
 "nbformat": 4,
 "nbformat_minor": 5
}
